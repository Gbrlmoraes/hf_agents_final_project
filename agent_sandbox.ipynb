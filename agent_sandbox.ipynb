{
 "cells": [
  {
   "cell_type": "markdown",
   "id": "e3df7681",
   "metadata": {},
   "source": [
    "# Hugging Face AI Agents Course - Final Assignment"
   ]
  },
  {
   "cell_type": "markdown",
   "id": "c96974e2",
   "metadata": {},
   "source": [
    "## Imports"
   ]
  },
  {
   "cell_type": "code",
   "execution_count": 1,
   "id": "ee6e8a43",
   "metadata": {},
   "outputs": [
    {
     "data": {
      "text/plain": [
       "True"
      ]
     },
     "execution_count": 1,
     "metadata": {},
     "output_type": "execute_result"
    }
   ],
   "source": [
    "# Agent Building\n",
    "from langgraph.graph import START, END, StateGraph, MessagesState\n",
    "from langgraph.prebuilt import ToolNode\n",
    "from langchain_core.messages import HumanMessage, SystemMessage\n",
    "\n",
    "# AI Models\n",
    "from langchain_openai import ChatOpenAI\n",
    "from langchain_google_genai import ChatGoogleGenerativeAI\n",
    "\n",
    "# Tools\n",
    "from langchain_tavily import TavilySearch\n",
    "\n",
    "# Misc\n",
    "import requests\n",
    "from dotenv import load_dotenv\n",
    "from IPython.display import Image, display\n",
    "from pydantic import BaseModel, Field\n",
    "from typing import Literal\n",
    "\n",
    "load_dotenv()"
   ]
  },
  {
   "cell_type": "markdown",
   "id": "86c21f7d",
   "metadata": {},
   "source": [
    "## Agent Building"
   ]
  },
  {
   "cell_type": "markdown",
   "id": "e0198266",
   "metadata": {},
   "source": [
    "### Classes for Input, Output and State"
   ]
  },
  {
   "cell_type": "code",
   "execution_count": 2,
   "id": "188cbd46",
   "metadata": {},
   "outputs": [],
   "source": [
    "# Define how the output of the agent should look like\n",
    "class FinalResponseOutput(BaseModel):\n",
    "    \"\"\"Respond to the user with this\"\"\"\n",
    "\n",
    "    final_reponse: str = Field(\n",
    "        description=\"your answer with the following template: FINAL ANSWER: [YOUR FINAL ANSWER]. YOUR FINAL ANSWER should be a number OR as few words as possible OR a comma separated list of numbers and/or strings.\"\n",
    "    )\n",
    "    reasoning_trace: str = Field(\"The different steps by which you reached answer\")\n",
    "\n",
    "\n",
    "# Agent State\n",
    "class AgentState(MessagesState):\n",
    "    final_response: FinalResponseOutput"
   ]
  },
  {
   "cell_type": "markdown",
   "id": "cc627362",
   "metadata": {},
   "source": [
    "### Tools"
   ]
  },
  {
   "cell_type": "code",
   "execution_count": 3,
   "id": "333ec029",
   "metadata": {},
   "outputs": [],
   "source": [
    "search = TavilySearch(max_results=5)\n",
    "\n",
    "tools = [search]"
   ]
  },
  {
   "cell_type": "markdown",
   "id": "8b25557d",
   "metadata": {},
   "source": [
    "### LLM Model"
   ]
  },
  {
   "cell_type": "code",
   "execution_count": 9,
   "id": "9ee69ed4",
   "metadata": {},
   "outputs": [],
   "source": [
    "# llm = ChatGoogleGenerativeAI(model=\"gemini-2.0-flash-lite\", temperature=0)\n",
    "llm = ChatOpenAI(model=\"gpt-4.1-nano\", temperature=0)\n",
    "llm_with_tools = llm.bind_tools(\n",
    "    tools\n",
    ")\n",
    "llm_with_structured_output = llm.with_structured_output(FinalResponseOutput, method=\"function_calling\")"
   ]
  },
  {
   "cell_type": "markdown",
   "id": "cca9b2f6",
   "metadata": {},
   "source": [
    "### Graph"
   ]
  },
  {
   "cell_type": "code",
   "execution_count": 10,
   "id": "52fccac7",
   "metadata": {},
   "outputs": [
    {
     "data": {
      "image/png": "[encoded data removed]",
      "text/plain": [
       "<IPython.core.display.Image object>"
      ]
     },
     "metadata": {},
     "output_type": "display_data"
    }
   ],
   "source": [
    "# Define the system message to respond in the GAIA Benchmark format\n",
    "sys_msg = SystemMessage(\n",
    "    content=\"You are a general AI assistant. I will ask you a question. Report your thoughts, and finish your answer with the following template: FINAL ANSWER: [YOUR FINAL ANSWER]. YOUR FINAL ANSWER should be a number OR as few words as possible OR a comma separated list of numbers and/or strings. If you are asked for a number, don't use comma to write your number neither use units such as $ or percent sign unless specified otherwise. If you are asked for a string, don't use articles, neither abbreviations (e.g. for cities), and write the digits in plain text unless specified otherwise. If you are asked for a comma separated list, apply the above rules depending of whether the element to be put in the list is a number or a string.\"\n",
    ")\n",
    "\n",
    "\n",
    "# Define the function that calls the model\n",
    "def call_model(state: AgentState):\n",
    "    response = llm_with_tools.invoke(state[\"messages\"])\n",
    "    # We return a list, because this will get added to the existing list\n",
    "    return {\"messages\": [response]}\n",
    "\n",
    "\n",
    "# Define the function that responds to the user\n",
    "def respond(state: AgentState):\n",
    "    # We call the model with structured output in order to return the same format to the user every time\n",
    "    # state['messages'][-2] is the last ToolMessage in the convo, which we convert to a HumanMessage for the model to use\n",
    "    # We could also pass the entire chat history, but this saves tokens since all we care to structure is the output of the tool\n",
    "    response = llm_with_structured_output.invoke([sys_msg] + state[\"messages\"])\n",
    "    # We return the final answer\n",
    "    return {\"final_response\": response}\n",
    "\n",
    "\n",
    "# Define the function that determines whether to continue or not\n",
    "def should_continue(state: AgentState) -> Literal[\"tools\", \"respond\"]:\n",
    "    messages = state[\"messages\"]\n",
    "    last_message = messages[-1]\n",
    "    # If there is no function call, then we respond to the user\n",
    "    if not last_message.tool_calls:\n",
    "        return \"respond\"\n",
    "    # Otherwise if there is, we continue\n",
    "    else:\n",
    "        return \"tools\"\n",
    "\n",
    "\n",
    "# Define a new graph\n",
    "workflow = StateGraph(AgentState)\n",
    "\n",
    "### Nodes\n",
    "workflow.add_node(\"agent\", call_model)\n",
    "workflow.add_node(\"respond\", respond)\n",
    "workflow.add_node(\"tools\", ToolNode(tools))\n",
    "\n",
    "### Edges\n",
    "workflow.add_edge(START, \"agent\")\n",
    "\n",
    "# We now add a conditional edge\n",
    "workflow.add_conditional_edges(\n",
    "    \"agent\",\n",
    "    should_continue,\n",
    ")\n",
    "\n",
    "workflow.add_edge(\"tools\", \"agent\")\n",
    "workflow.add_edge(\"respond\", END)\n",
    "graph = workflow.compile()\n",
    "\n",
    "display(Image(graph.get_graph().draw_mermaid_png()))"
   ]
  },
  {
   "cell_type": "markdown",
   "id": "9d50c8a6",
   "metadata": {},
   "source": [
    "## Testing"
   ]
  },
  {
   "cell_type": "code",
   "execution_count": 7,
   "id": "eeff7e10",
   "metadata": {},
   "outputs": [
    {
     "name": "stdout",
     "output_type": "stream",
     "text": [
      "Question: I'm making a grocery list for my mom, but she's a professor of botany and she's a real stickler when it comes to categorizing things. I need to add different foods to different categories on the grocery list, but if I make a mistake, she won't buy anything inserted in the wrong category. Here's the list I have so far:\n",
      "\n",
      "milk, eggs, flour, whole bean coffee, Oreos, sweet potatoes, fresh basil, plums, green beans, rice, corn, bell pepper, whole allspice, acorns, broccoli, celery, zucchini, lettuce, peanuts\n",
      "\n",
      "I need to make headings for the fruits and vegetables. Could you please create a list of just the vegetables from my list? If you could do that, then I can figure out how to categorize the rest of the list into the appropriate categories. But remember that my mom is a real stickler, so make sure that no botanical fruits end up on the vegetable list, or she won't get them when she's at the store. Please alphabetize the list of vegetables, and place each item in a comma separated list.\n",
      "Level 1\n",
      "File name: \n"
     ]
    }
   ],
   "source": [
    "# Gets a random question from the API\n",
    "response_json = requests.get(\n",
    "    \"https://agents-course-unit4-scoring.hf.space/random-question\"\n",
    ").json()\n",
    "question = response_json[\"question\"]\n",
    "\n",
    "# Shows each json field\n",
    "print(\"Question:\", question)\n",
    "print(\"Level\", response_json[\"Level\"])\n",
    "print(\"File name:\", response_json[\"file_name\"])"
   ]
  },
  {
   "cell_type": "code",
   "execution_count": 11,
   "id": "1c4940f9",
   "metadata": {},
   "outputs": [
    {
     "name": "stdout",
     "output_type": "stream",
     "text": [
      "================================\u001b[1m Human Message \u001b[0m=================================\n",
      "\n",
      "I'm making a grocery list for my mom, but she's a professor of botany and she's a real stickler when it comes to categorizing things. I need to add different foods to different categories on the grocery list, but if I make a mistake, she won't buy anything inserted in the wrong category. Here's the list I have so far:\n",
      "\n",
      "milk, eggs, flour, whole bean coffee, Oreos, sweet potatoes, fresh basil, plums, green beans, rice, corn, bell pepper, whole allspice, acorns, broccoli, celery, zucchini, lettuce, peanuts\n",
      "\n",
      "I need to make headings for the fruits and vegetables. Could you please create a list of just the vegetables from my list? If you could do that, then I can figure out how to categorize the rest of the list into the appropriate categories. But remember that my mom is a real stickler, so make sure that no botanical fruits end up on the vegetable list, or she won't get them when she's at the store. Please alphabetize the list of vegetables, and place each item in a comma separated list.\n",
      "==================================\u001b[1m Ai Message \u001b[0m==================================\n",
      "Tool Calls:\n",
      "  tavily_search (call_dMqRIGD8QLQ60AYjtWbeARF6)\n",
      " Call ID: call_dMqRIGD8QLQ60AYjtWbeARF6\n",
      "  Args:\n",
      "    query: vegetables in the list: sweet potatoes, green beans, broccoli, celery, zucchini, lettuce, bell pepper, peanuts, corn\n",
      "  tavily_search (call_UTnCcn05vqf1J4yl8V9zpmdb)\n",
      " Call ID: call_UTnCcn05vqf1J4yl8V9zpmdb\n",
      "  Args:\n",
      "    query: botanical fruits in the list: plums, fresh basil, acorns\n",
      "=================================\u001b[1m Tool Message \u001b[0m=================================\n",
      "Name: tavily_search\n",
      "\n",
      "{\"query\": \"vegetables in the list: sweet potatoes, green beans, broccoli, celery, zucchini, lettuce, bell pepper, peanuts, corn\", \"follow_up_questions\": null, \"answer\": null, \"images\": [], \"results\": [{\"title\": \"12 High-ROI Crops Worth Growing in 2025\", \"url\": \"https://www.littleyellowwheelbarrow.com/roi-crops/\", \"content\": \"Why They're Worth It: Bell and hot peppers are easy to grow and expensive to buy organic, making them great high-ROI crops. Cost Analysis: A $3-$5 seed packet can yield 10-20 pounds of peppers, costing $0.50-$1.00/lb versus $3-$7/lb in stores. Best Varieties: Bell: California Wonder, King of the North; Hot: Jalapeño, Hungarian Wax\", \"score\": 0.62687886, \"raw_content\": null}, {\"title\": \"2025 Planting Calendar by Zip Code | The Old Farmer's Almanac\", \"url\": \"https://www.almanac.com/gardening/planting-calendar\", \"content\": \"Vegetable Gardening; Flower Gardening; Houseplants; Robin's Garden Blog; Garden Store; ... The 2025 gardening calendar tells you the ideal times WHEN TO PLANT vegetables, fruit, and herbs in your area. ... lettuce grows quickly and can be planted every week or two for a long time, especially as you change varieties for higher bolt resistance\", \"score\": 0.6063825, \"raw_content\": null}, {\"title\": \"11 Vegetables to Plant in 2025 - Epic Gardening\", \"url\": \"https://www.epicgardening.com/2025-vegetables-plant/\", \"content\": \"You’ll likely grow all the seeds you need in a year and find it difficult to add new ones to your roster. A new plant or two adds unique pollen to the garden, which boosts the health of next year’s seeds. The ‘Luffa’ gourd grows edible squash-like vegetables that mature into spongy, fibrous crops. Choose the type you’d like to watch grow in your garden with pumpkins you’d prefer to use. Consider a patty pan type like ‘Gelber Englischer’ in small gardens, as a single vine produces dozens of squash on a short plant. This heirloom variety grows quickly from seeds and produces dozens of chilis on short, squat plants. Explore delicious new seed varieties to look for in January with gardening expert Katherine Rowe.\", \"score\": 0.5818027, \"raw_content\": null}, {\"title\": \"12 Crops We're Planting in 2025 - Epic Gardening\", \"url\": \"https://www.epicgardening.com/2025-crops/\", \"content\": \"The fully digital interface includes bed layouts, seed planting recommendations, and an integrated garden journal to keep records of your crop progress. Be sure to loosen and weed your soil before scattering the seed shaker around your garden. This buttery smooth acorn squash produces 3-5 fruits per plant, yet it only grows about 48” long vines, making it perfect for containers and small-space gardens. Explore delicious new seed varieties to look for in January with gardening expert Katherine Rowe. Join gardening expert Katherine Rowe in exploring ways to start seeds without a commercial tool. Explore seeds to winter sow in January with gardening expert Katherine Rowe. Get a jump on your gardening season by starting seeds in January!\", \"score\": 0.34880093, \"raw_content\": null}, {\"title\": \"Companion Planting Chart and Guide for Vegetable Gardens\", \"url\": \"https://www.almanac.com/companion-planting-guide-vegetables\", \"content\": \"Companion Planting Chart for Vegetable Garden: Tomatoes, Potatoes, and More! The benefits can be one-way, such as when nectar-rich flowers planted around fruiting crops, like tomatoes, improve insect pollination, or reciprocal, such as when the famous Three Sisters of corn, pole beans, and squash are grown together for mutual benefit. Planning a Companion Planting Garden (See more below.) Of course, any nectar-rich flowers such as zinnia, comfrey, and ageratum will attract pollinators such as bees to the garden and help to boost the pollination of flowering crop plants like tomatoes, beans, and squash. At the same time, tansy repels many typical baddies, such as cutworm, which attacks asparagus, bean, cabbage, carrot, celery, corn, lettuce, pea, pepper, potato, and tomato plants.\", \"score\": 0.20563136, \"raw_content\": null}], \"response_time\": 2.42}\n",
      "=================================\u001b[1m Tool Message \u001b[0m=================================\n",
      "Name: tavily_search\n",
      "\n",
      "{\"query\": \"botanical fruits in the list: plums, fresh basil, acorns\", \"follow_up_questions\": null, \"answer\": null, \"images\": [], \"results\": [{\"url\": \"https://www.gethsemanegardens.com/wp-content/uploads/2014/01/edibles-list-PDF.pdf\", \"title\": \"[PDF] 2016 Herb, Vegetable, and Fruit List - Gethsemane Garden Center\", \"content\": \"2016 Herb, Vegetable, and Fruit List. Herbs. Basil: - Sweet. - Lemon. - Red Ruben. - Thai. - African Blue. - Holy. - Ajaka. - Greek. Bay Laurel.\", \"score\": 0.3617513, \"raw_content\": null}, {\"url\": \"https://publications.iarc.fr/_publications/media/download/3932/5fee73206bb342384fc9bc658bc33e7f02799d3e.pdf\", \"title\": \"[PDF] Definitions and classifications for fruit and vegetables\", \"content\": \"Table 3 lists 16 botanical families that are sources of food components. (as identified from Table 2) and lists some of the fruits and vegetables within\", \"score\": 0.14469214, \"raw_content\": null}, {\"url\": \"https://www.organicauthority.com/live-grow/111-herbs-vegetables-edible-flowers-a-fruit-to-plant-in-your-kitchen-garden\", \"title\": \"111 Herbs, Vegetables, Edible Flowers, & Fruit to Plant in Your ...\", \"content\": \"Here is a list of 111 things to grow in your home garden and inspire you to get into the kitchen. You can't get any more local and organic than this!\", \"score\": 0.10188415, \"raw_content\": null}, {\"url\": \"https://whiskerflowers.wordpress.com/2017/11/04/food-plant-families-botanical-definitions/\", \"title\": \"Edibles: Food Plant Families & Botanical Definitions - Whisker Flowers\", \"content\": \"Pingback: Raspberry: How to Grow – Fruit of the Month – Whisker Flowers Pingback: Fig: How to Grow – Fruit of the Month – Whisker Flowers Pingback: Eggplant: How To Grow – Fruit of the Month – Whisker Flowers Pingback: Cucumber: How To Grow – Fruit of the Month – Whisker Flowers Pingback: Apricot: How to Grow – Fruit of the Month – Whisker Flowers Pingback: Pea plant: How to Grow – Vegetable of the Month – Whisker Flowers Pingback: Common Garden/Globe Onion: How to Grow – Vegetable of the Month – Whisker Flowers Pingback: Common Bean plant: How to Grow – Vegetable of the Month – Whisker Flowers Pingback: Potato: How To Grow – Vegetable of the Month – Whisker Flowers\", \"score\": 0.07439947, \"raw_content\": null}], \"response_time\": 1.48}\n",
      "==================================\u001b[1m Ai Message \u001b[0m==================================\n",
      "\n",
      "Here is the alphabetized list of vegetables from your list:\n",
      "\n",
      "bell pepper, broccoli, celery, green beans, zucchini, lettuce, sweet potatoes, corn\n",
      "\n",
      "Please let me know if you need help with anything else!\n",
      "Final response: bell pepper, broccoli, celery, green beans, zucchini, lettuce, sweet potatoes, corn\n"
     ]
    }
   ],
   "source": [
    "# Process the question with the agent\n",
    "messages = [HumanMessage(content=question)]\n",
    "messages = graph.invoke({\"messages\": messages})\n",
    "for m in messages[\"messages\"]:\n",
    "    m.pretty_print()\n",
    "\n",
    "print(\"Final response:\", messages[\"final_response\"].final_reponse)"
   ]
  }
 ],
 "metadata": {
  "kernelspec": {
   "display_name": ".venv",
   "language": "python",
   "name": "python3"
  },
  "language_info": {
   "codemirror_mode": {
    "name": "ipython",
    "version": 3
   },
   "file_extension": ".py",
   "mimetype": "text/x-python",
   "name": "python",
   "nbconvert_exporter": "python",
   "pygments_lexer": "ipython3",
   "version": "3.13.2"
  }
 },
 "nbformat": 4,
 "nbformat_minor": 5
}
